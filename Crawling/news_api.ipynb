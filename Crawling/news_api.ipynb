{
 "cells": [
  {
   "cell_type": "code",
   "execution_count": 2,
   "metadata": {},
   "outputs": [
    {
     "data": {
      "text/plain": [
       "[{'source': {'id': None, 'name': 'Parade'},\n",
       "  'author': 'Beth Ann Mayer',\n",
       "  'title': \"‘I’m an Infectious Disease Expert, and This Is the #1 Vaccine Myth I Wish Everyone Would Stop Believing'\",\n",
       "  'description': 'Vaccine misinformation is dangerous. One infectious disease expert plays myth-buster.',\n",
       "  'url': 'https://parade.com/health/top-vaccine-myth-to-stop-believing-according-to-infectious-disease-experts',\n",
       "  'urlToImage': 'https://media.zenfs.com/en/parade_250/9aed4069efaad575d2c706c3ee60cd7f',\n",
       "  'publishedAt': '2024-10-03T10:25:00Z',\n",
       "  'content': \"Believe it or not, living until age five used to be difficult. And it wasn't that long ago. In the early 1900s, 30% of all deaths in the U.S. occurred in children under five, according to\\xa0data. Thank… [+6002 chars]\"},\n",
       " {'source': {'id': None, 'name': 'Scientific American'},\n",
       "  'author': 'Rachel Feltman, Marla Broadfoot, Fonda Mwangi',\n",
       "  'title': 'Suzetrigine Is Part of a New Class of Pain Medications That Could Offer Relief for Chronic Pain',\n",
       "  'description': 'A new class of drugs treats pain at the periphery. Here’s what that could mean for those with chronic pain.',\n",
       "  'url': 'https://www.scientificamerican.com/podcast/episode/suzetrigine-is-part-of-a-new-class-of-pain-medications-that-could-offer/',\n",
       "  'urlToImage': 'https://static.scientificamerican.com/dam/m/225cfca2d98f2cb5/original/SQ-Wednesday-EP-Art.png?w=1200',\n",
       "  'publishedAt': '2024-10-02T10:00:00Z',\n",
       "  'content': 'Rachel Feltman: Almost all humans experience pain in some form or another during their lives. And for many folks pain is a frequent or even constant companion. A National Institutes of Health study\\r\\n… [+10246 chars]'},\n",
       " {'source': {'id': None, 'name': 'Dealcatcher.com'},\n",
       "  'author': None,\n",
       "  'title': 'Amazon - Tylenol Extra Strength 32ct Dissolve Packs, 500 mg Acetaminophen $10.39',\n",
       "  'description': \"Compare & Save!\\xa0 These Tylenol Extra Strength 32ct Dissolve Packs, 500 mg Acetaminophen are $17.35 at Walmart.\\xa0 Clip the coupon and choose subscribe & save to score them for $10.39 or less today at Amazon. Don't want more delivered later? Cancel subscribe & s…\",\n",
       "  'url': 'https://www.dealcatcher.com/?offer=998304966',\n",
       "  'urlToImage': 'https://www.dealcatcher.com/__og-image__/image/og.png?_query=%7B%22offer%22:%22998304966%22,%22utm_source%22:%22rss%22%7D',\n",
       "  'publishedAt': '2024-10-04T15:41:16Z',\n",
       "  'content': 'Score deals on your favorite skincare, personal care, and wellness products from top retailers including Walgreens, Rite-Aid, Walmart, Target &amp; More. From everyday essentials to vitamins &amp; sp… [+74 chars]'},\n",
       " {'source': {'id': None, 'name': 'The Daily Dot'},\n",
       "  'author': 'Grace Rampaul',\n",
       "  'title': '‘It’s just liquid Tylenol’: Pharmacist warns against new PainQuil, calls it a ‘scam medication’',\n",
       "  'description': 'Whether they know it or not, more than 50 million Americans use acetaminophen every week, making it the most widely used drug ingredient in the U.S.\\n\\n\\nUsed as both a pain reliever and fever reducer, acetaminophen is often the only active ingredient in many me…',\n",
       "  'url': 'https://www.dailydot.com/news/vicks-painquil-is-just-liquid-tylenol/',\n",
       "  'urlToImage': 'https://uploads.dailydot.com/2024/09/painquil-is-liquid-tylenol.jpg?auto=compress&fm=pjpg',\n",
       "  'publishedAt': '2024-09-22T18:00:00Z',\n",
       "  'content': 'Whether they know it or not, more than 50 million Americans use acetaminophen every week, making it the most widely used drug ingredient in the U.S.\\r\\nUsed as both a pain reliever and fever reducer, a… [+4465 chars]'},\n",
       " {'source': {'id': 'espn', 'name': 'ESPN'},\n",
       "  'author': 'Mark Schlabach and Marty Smith',\n",
       "  'title': 'He was the most famous strength coach in college football. Now, Scott Cochran opens up about his addiction',\n",
       "  'description': 'Scott Cochran was a rising star coach at Alabama and then Georgia while hiding what he calls an addiction to painkillers. He is now sober and is out of coaching, trying to help others going through similar struggles.',\n",
       "  'url': 'https://www.espn.com/college-football/story/_/id/41362499/georgia-alabama-assistant-scott-cochran-addiction-recovery',\n",
       "  'urlToImage': 'https://a2.espncdn.com/combiner/i?img=%2Fphoto%2F2021%2F0808%2Fr893405_1296x729_16%2D9.jpg',\n",
       "  'publishedAt': '2024-09-25T12:38:49Z',\n",
       "  'content': \"Sep 25, 2024, 07:00 AM ET\\r\\nATHENS, Ga. -- For more than two decades, Scott Cochran's thundering bullhorn of a voice helped him become the most famous strength and conditioning coach in college footba… [+21091 chars]\"}]"
      ]
     },
     "execution_count": 2,
     "metadata": {},
     "output_type": "execute_result"
    }
   ],
   "source": [
    "import requests\n",
    "\n",
    "def get_news(query, api_key):\n",
    "    url = f\"https://newsapi.org/v2/everything?q={query}&apiKey={api_key}\"\n",
    "    response = requests.get(url)\n",
    "    if response.status_code == 200:\n",
    "        articles = response.json().get(\"articles\", [])\n",
    "        return articles[:5]  # 최대 5개의 뉴스 결과 가져오기\n",
    "    else:\n",
    "        print(\"Error fetching news.\")\n",
    "        return []\n",
    "\n",
    "query = 'acetaminophen'\n",
    "news_api_key = '57fffdb95a5046b79f024cd479171131'\n",
    "news_articles = get_news(query, news_api_key)\n",
    "news_articles"
   ]
  },
  {
   "cell_type": "code",
   "execution_count": 5,
   "metadata": {},
   "outputs": [
    {
     "data": {
      "text/plain": [
       "\"Believe it or not, living until age five used to be difficult. And it wasn't that long ago. In the early 1900s, 30% of all deaths in the U.S. occurred in children under five, according to\\xa0data. Thank… [+6002 chars]\""
      ]
     },
     "execution_count": 5,
     "metadata": {},
     "output_type": "execute_result"
    }
   ],
   "source": [
    "news_articles[0]['content']"
   ]
  },
  {
   "cell_type": "code",
   "execution_count": null,
   "metadata": {},
   "outputs": [],
   "source": []
  }
 ],
 "metadata": {
  "kernelspec": {
   "display_name": "base",
   "language": "python",
   "name": "python3"
  },
  "language_info": {
   "codemirror_mode": {
    "name": "ipython",
    "version": 3
   },
   "file_extension": ".py",
   "mimetype": "text/x-python",
   "name": "python",
   "nbconvert_exporter": "python",
   "pygments_lexer": "ipython3",
   "version": "3.11.7"
  }
 },
 "nbformat": 4,
 "nbformat_minor": 2
}
