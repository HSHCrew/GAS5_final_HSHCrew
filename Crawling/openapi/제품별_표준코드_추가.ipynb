{
 "cells": [
  {
   "cell_type": "code",
   "execution_count": 26,
   "metadata": {},
   "outputs": [
    {
     "data": {
      "text/html": [
       "<div>\n",
       "<style scoped>\n",
       "    .dataframe tbody tr th:only-of-type {\n",
       "        vertical-align: middle;\n",
       "    }\n",
       "\n",
       "    .dataframe tbody tr th {\n",
       "        vertical-align: top;\n",
       "    }\n",
       "\n",
       "    .dataframe thead th {\n",
       "        text-align: right;\n",
       "    }\n",
       "</style>\n",
       "<table border=\"1\" class=\"dataframe\">\n",
       "  <thead>\n",
       "    <tr style=\"text-align: right;\">\n",
       "      <th></th>\n",
       "      <th>업체명</th>\n",
       "      <th>제품명</th>\n",
       "      <th>품목기준코드</th>\n",
       "      <th>효능</th>\n",
       "      <th>사용법</th>\n",
       "      <th>주의사항_경고</th>\n",
       "      <th>주의사항</th>\n",
       "      <th>상호작용</th>\n",
       "      <th>부작용</th>\n",
       "      <th>보관법</th>\n",
       "      <th>공개일자</th>\n",
       "      <th>수정일자</th>\n",
       "      <th>낱알이미지</th>\n",
       "      <th>사업자등록번호</th>\n",
       "    </tr>\n",
       "  </thead>\n",
       "  <tbody>\n",
       "    <tr>\n",
       "      <th>0</th>\n",
       "      <td>동화약품(주)</td>\n",
       "      <td>활명수</td>\n",
       "      <td>195700020</td>\n",
       "      <td>이 약은 식욕감퇴(식욕부진), 위부팽만감, 소화불량, 과식, 체함, 구역, 구토에 ...</td>\n",
       "      <td>만 15세 이상 및 성인은 1회 1병(75 mL), 만 11세이상~만 15세미만은 ...</td>\n",
       "      <td>None</td>\n",
       "      <td>만 3개월 미만의 젖먹이는 이 약을 복용하지 마십시오.\\n\\n이 약을 복용하기 전에...</td>\n",
       "      <td>None</td>\n",
       "      <td>None</td>\n",
       "      <td>습기와 빛을 피해 실온에서 보관하십시오.\\n\\n어린이의 손이 닿지 않는 곳에 보관하...</td>\n",
       "      <td>2021-01-29 00:00:00</td>\n",
       "      <td>2024-05-09</td>\n",
       "      <td>None</td>\n",
       "      <td>1108100102</td>\n",
       "    </tr>\n",
       "  </tbody>\n",
       "</table>\n",
       "</div>"
      ],
      "text/plain": [
       "       업체명  제품명     품목기준코드                                                 효능  \\\n",
       "0  동화약품(주)  활명수  195700020  이 약은 식욕감퇴(식욕부진), 위부팽만감, 소화불량, 과식, 체함, 구역, 구토에 ...   \n",
       "\n",
       "                                                 사용법 주의사항_경고  \\\n",
       "0  만 15세 이상 및 성인은 1회 1병(75 mL), 만 11세이상~만 15세미만은 ...    None   \n",
       "\n",
       "                                                주의사항  상호작용   부작용  \\\n",
       "0  만 3개월 미만의 젖먹이는 이 약을 복용하지 마십시오.\\n\\n이 약을 복용하기 전에...  None  None   \n",
       "\n",
       "                                                 보관법                 공개일자  \\\n",
       "0  습기와 빛을 피해 실온에서 보관하십시오.\\n\\n어린이의 손이 닿지 않는 곳에 보관하...  2021-01-29 00:00:00   \n",
       "\n",
       "         수정일자 낱알이미지     사업자등록번호  \n",
       "0  2024-05-09  None  1108100102  "
      ]
     },
     "execution_count": 26,
     "metadata": {},
     "output_type": "execute_result"
    }
   ],
   "source": [
    "import pandas as pd\n",
    "\n",
    "consumed = pd. read_json('./data/e약은요.json')\n",
    "consumed.head(1)"
   ]
  },
  {
   "cell_type": "code",
   "execution_count": 27,
   "metadata": {},
   "outputs": [
    {
     "name": "stdout",
     "output_type": "stream",
     "text": [
      "<class 'pandas.core.frame.DataFrame'>\n",
      "RangeIndex: 290750 entries, 0 to 290749\n",
      "Data columns (total 22 columns):\n",
      " #   Column        Non-Null Count   Dtype  \n",
      "---  ------        --------------   -----  \n",
      " 0   한글상품명         290750 non-null  object \n",
      " 1   업체명           290750 non-null  object \n",
      " 2   약품규격          290715 non-null  object \n",
      " 3   제품총수량         290750 non-null  int64  \n",
      " 4   제형구분          185546 non-null  object \n",
      " 5   포장형태          185538 non-null  object \n",
      " 6   품목기준코드        290750 non-null  int64  \n",
      " 7   품목허가일자        290131 non-null  object \n",
      " 8   전문_일반         282641 non-null  object \n",
      " 9   대표코드          290750 non-null  int64  \n",
      " 10  표준코드          290750 non-null  int64  \n",
      " 11  제품코드(개정후)     71510 non-null   float64\n",
      " 12  일반명코드(성분명코드)  137715 non-null  object \n",
      " 13  비고            84116 non-null   object \n",
      " 14  취소일자          65469 non-null   object \n",
      " 15  양도양수적용(공고)일자  40311 non-null   object \n",
      " 16  양도양수종료일자      20072 non-null   object \n",
      " 17  일련번호생략여부      290749 non-null  object \n",
      " 18  일련번호생략사유      156493 non-null  object \n",
      " 19  ATC코드         224042 non-null  object \n",
      " 20  특수관리약품구분      290320 non-null  object \n",
      " 21  의약품판독장비구분     290750 non-null  object \n",
      "dtypes: float64(1), int64(4), object(17)\n",
      "memory usage: 48.8+ MB\n"
     ]
    }
   ],
   "source": [
    "mapping = pd.read_csv('./data/건강보험심사평가원_약가마스터_의약품표준코드_20231030.csv', encoding='cp949')\n",
    "mapping.info()\n"
   ]
  },
  {
   "cell_type": "code",
   "execution_count": 28,
   "metadata": {},
   "outputs": [],
   "source": [
    "# mapping['품목 기준 코드'] = mapping.품목기준코드"
   ]
  },
  {
   "cell_type": "code",
   "execution_count": 34,
   "metadata": {},
   "outputs": [
    {
     "name": "stdout",
     "output_type": "stream",
     "text": [
      "      품목기준코드                                    제품명 일반명코드(성분명코드)\n",
      "0  195700020                                    활명수    C20800ALQ\n",
      "1  195700020                                    활명수    C20800ALQ\n",
      "2  195700020                                    활명수    C20800ALQ\n",
      "3  195900034  신신티눈고(살리실산반창고)(수출명:SINSINCORNPLASTER)    A37306CDS\n",
      "4  195900034  신신티눈고(살리실산반창고)(수출명:SINSINCORNPLASTER)    A37306CDS\n"
     ]
    }
   ],
   "source": [
    "merged_df = pd.merge(consumed, mapping, on='품목기준코드', how='left')\n",
    "\n",
    "# 결과 출력\n",
    "print(merged_df[['품목기준코드', '제품명', '일반명코드(성분명코드)']].head())"
   ]
  },
  {
   "cell_type": "code",
   "execution_count": 32,
   "metadata": {},
   "outputs": [
    {
     "data": {
      "text/html": [
       "<div>\n",
       "<style scoped>\n",
       "    .dataframe tbody tr th:only-of-type {\n",
       "        vertical-align: middle;\n",
       "    }\n",
       "\n",
       "    .dataframe tbody tr th {\n",
       "        vertical-align: top;\n",
       "    }\n",
       "\n",
       "    .dataframe thead th {\n",
       "        text-align: right;\n",
       "    }\n",
       "</style>\n",
       "<table border=\"1\" class=\"dataframe\">\n",
       "  <thead>\n",
       "    <tr style=\"text-align: right;\">\n",
       "      <th></th>\n",
       "      <th>업체명_x</th>\n",
       "      <th>제품명</th>\n",
       "      <th>품목기준코드</th>\n",
       "      <th>효능</th>\n",
       "      <th>사용법</th>\n",
       "      <th>주의사항_경고</th>\n",
       "      <th>주의사항</th>\n",
       "      <th>상호작용</th>\n",
       "      <th>부작용</th>\n",
       "      <th>보관법</th>\n",
       "      <th>...</th>\n",
       "      <th>일반명코드(성분명코드)</th>\n",
       "      <th>비고</th>\n",
       "      <th>취소일자</th>\n",
       "      <th>양도양수적용(공고)일자</th>\n",
       "      <th>양도양수종료일자</th>\n",
       "      <th>일련번호생략여부</th>\n",
       "      <th>일련번호생략사유</th>\n",
       "      <th>ATC코드</th>\n",
       "      <th>특수관리약품구분</th>\n",
       "      <th>의약품판독장비구분</th>\n",
       "    </tr>\n",
       "  </thead>\n",
       "  <tbody>\n",
       "    <tr>\n",
       "      <th>0</th>\n",
       "      <td>동화약품(주)</td>\n",
       "      <td>활명수</td>\n",
       "      <td>195700020</td>\n",
       "      <td>이 약은 식욕감퇴(식욕부진), 위부팽만감, 소화불량, 과식, 체함, 구역, 구토에 ...</td>\n",
       "      <td>만 15세 이상 및 성인은 1회 1병(75 mL), 만 11세이상~만 15세미만은 ...</td>\n",
       "      <td>None</td>\n",
       "      <td>만 3개월 미만의 젖먹이는 이 약을 복용하지 마십시오.\\n\\n이 약을 복용하기 전에...</td>\n",
       "      <td>None</td>\n",
       "      <td>None</td>\n",
       "      <td>습기와 빛을 피해 실온에서 보관하십시오.\\n\\n어린이의 손이 닿지 않는 곳에 보관하...</td>\n",
       "      <td>...</td>\n",
       "      <td>C20800ALQ</td>\n",
       "      <td>NaN</td>\n",
       "      <td>NaN</td>\n",
       "      <td>NaN</td>\n",
       "      <td>NaN</td>\n",
       "      <td>Y</td>\n",
       "      <td>일반의약품</td>\n",
       "      <td>A09A</td>\n",
       "      <td>해당사항없음</td>\n",
       "      <td>바코드</td>\n",
       "    </tr>\n",
       "  </tbody>\n",
       "</table>\n",
       "<p>1 rows × 35 columns</p>\n",
       "</div>"
      ],
      "text/plain": [
       "     업체명_x  제품명     품목기준코드                                                 효능  \\\n",
       "0  동화약품(주)  활명수  195700020  이 약은 식욕감퇴(식욕부진), 위부팽만감, 소화불량, 과식, 체함, 구역, 구토에 ...   \n",
       "\n",
       "                                                 사용법 주의사항_경고  \\\n",
       "0  만 15세 이상 및 성인은 1회 1병(75 mL), 만 11세이상~만 15세미만은 ...    None   \n",
       "\n",
       "                                                주의사항  상호작용   부작용  \\\n",
       "0  만 3개월 미만의 젖먹이는 이 약을 복용하지 마십시오.\\n\\n이 약을 복용하기 전에...  None  None   \n",
       "\n",
       "                                                 보관법  ... 일반명코드(성분명코드)   비고  \\\n",
       "0  습기와 빛을 피해 실온에서 보관하십시오.\\n\\n어린이의 손이 닿지 않는 곳에 보관하...  ...    C20800ALQ  NaN   \n",
       "\n",
       "  취소일자  양도양수적용(공고)일자 양도양수종료일자 일련번호생략여부 일련번호생략사유  ATC코드 특수관리약품구분 의약품판독장비구분  \n",
       "0  NaN           NaN      NaN        Y    일반의약품   A09A   해당사항없음       바코드  \n",
       "\n",
       "[1 rows x 35 columns]"
      ]
     },
     "execution_count": 32,
     "metadata": {},
     "output_type": "execute_result"
    }
   ],
   "source": [
    "merged_df.head(1)"
   ]
  },
  {
   "cell_type": "code",
   "execution_count": 31,
   "metadata": {},
   "outputs": [],
   "source": [
    "merged_df.to_json('./data/e약은요_일반명코드.json')"
   ]
  },
  {
   "cell_type": "code",
   "execution_count": null,
   "metadata": {},
   "outputs": [],
   "source": []
  }
 ],
 "metadata": {
  "kernelspec": {
   "display_name": "elice",
   "language": "python",
   "name": "python3"
  },
  "language_info": {
   "codemirror_mode": {
    "name": "ipython",
    "version": 3
   },
   "file_extension": ".py",
   "mimetype": "text/x-python",
   "name": "python",
   "nbconvert_exporter": "python",
   "pygments_lexer": "ipython3",
   "version": "3.10.8"
  }
 },
 "nbformat": 4,
 "nbformat_minor": 2
}
