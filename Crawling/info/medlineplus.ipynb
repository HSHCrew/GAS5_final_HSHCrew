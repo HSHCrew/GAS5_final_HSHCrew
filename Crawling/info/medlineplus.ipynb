{
 "cells": [
  {
   "cell_type": "markdown",
   "metadata": {},
   "source": [
    "# medlineplus"
   ]
  },
  {
   "cell_type": "code",
   "execution_count": 30,
   "metadata": {},
   "outputs": [
    {
     "name": "stderr",
     "output_type": "stream",
     "text": [
      "USER_AGENT environment variable not set, consider setting it to identify your requests.\n"
     ]
    },
    {
     "data": {
      "text/plain": [
       "21704"
      ]
     },
     "execution_count": 30,
     "metadata": {},
     "output_type": "execute_result"
    }
   ],
   "source": [
    "from bs4 import BeautifulSoup\n",
    "import requests\n",
    "import string\n",
    "import tiktoken\n",
    "from langchain_text_splitters import RecursiveCharacterTextSplitter\n",
    "from langchain.document_loaders import WebBaseLoader\n",
    "\n",
    "# url = 'https://medlineplus.gov/druginfo/drug_Aa.html'\n",
    "\n",
    "headers = {\n",
    "    'User-Agent': 'Mozilla/5.0 (Windows NT 10.0; Win64; x64) AppleWebKit/537.36 (KHTML, like Gecko) Chrome/58.0.3029.110 Safari/537.3'\n",
    "}\n",
    "\n",
    "#Aa, Bb...\n",
    "alphabets = [f'{upper}a' for upper in string.ascii_uppercase]\n",
    "\n",
    "urls = []\n",
    "for alphabet in alphabets:\n",
    "    parent_url=f'https://medlineplus.gov/druginfo/drug_{alphabet}.html'\n",
    "    res = requests.get(parent_url, headers=headers)\n",
    "    soup = BeautifulSoup(res.content, 'html.parser')\n",
    "    hrefs = ['https://medlineplus.gov/druginfo'+a['href'][1:] for a in soup.find('ul', id='index').find_all('a') if 'href' in a.attrs]\n",
    "    urls += hrefs\n",
    "# 중복제거\n",
    "urls=list(set(urls))\n",
    "\n",
    "tokenizer = tiktoken.get_encoding('cl100k_base')\n",
    "def token_length(text):\n",
    "    tokens = tokenizer.encode(text)\n",
    "    return len(tokens)\n",
    "\n",
    "text_splitter = RecursiveCharacterTextSplitter(\n",
    "    chunk_size=300,\n",
    "    chunk_overlap=30,\n",
    "    length_function=token_length\n",
    ")\n",
    "\n",
    "all_info = []\n",
    "for url in urls:\n",
    "    docs = WebBaseLoader(url).load_and_split(text_splitter)\n",
    "    all_info += docs\n",
    "\n",
    "len(all_info)\n",
    "# 30m"
   ]
  },
  {
   "cell_type": "markdown",
   "metadata": {},
   "source": [
    "# json file로 저장"
   ]
  },
  {
   "cell_type": "code",
   "execution_count": 55,
   "metadata": {},
   "outputs": [],
   "source": [
    "import json\n",
    "\n",
    "medlineplus_drug_info = []\n",
    "for info in all_info:\n",
    "    medlineplus_drug_info.append(\n",
    "        {\n",
    "            'page_content':info.page_content,\n",
    "            'metadata':info.metadata\n",
    "         }\n",
    "    )\n",
    "\n",
    "with open('medlineplus_drug_info.json', 'w') as json_file:\n",
    "    json.dump(medlineplus_drug_info, json_file, indent=4)"
   ]
  }
 ],
 "metadata": {
  "kernelspec": {
   "display_name": "base",
   "language": "python",
   "name": "python3"
  },
  "language_info": {
   "codemirror_mode": {
    "name": "ipython",
    "version": 3
   },
   "file_extension": ".py",
   "mimetype": "text/x-python",
   "name": "python",
   "nbconvert_exporter": "python",
   "pygments_lexer": "ipython3",
   "version": "3.11.7"
  }
 },
 "nbformat": 4,
 "nbformat_minor": 2
}
