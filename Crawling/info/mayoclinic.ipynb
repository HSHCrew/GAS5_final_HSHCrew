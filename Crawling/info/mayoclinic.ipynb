{
 "cells": [
  {
   "cell_type": "code",
   "execution_count": 20,
   "metadata": {},
   "outputs": [
    {
     "name": "stderr",
     "output_type": "stream",
     "text": [
      "USER_AGENT environment variable not set, consider setting it to identify your requests.\n"
     ]
    },
    {
     "data": {
      "text/plain": [
       "Document(metadata={'source': 'https://www.mayoclinic.org/diseases-conditions/high-blood-pressure/symptoms-causes/syc-20373410', 'title': 'High blood pressure (hypertension) - Symptoms & causes - Mayo Clinic', 'language': 'en'}, page_content='High blood pressure (hypertension) - Symptoms & causes - Mayo Clinic')"
      ]
     },
     "execution_count": 20,
     "metadata": {},
     "output_type": "execute_result"
    }
   ],
   "source": [
    "from bs4 import BeautifulSoup\n",
    "import requests\n",
    "\n",
    "from langchain_text_splitters import RecursiveCharacterTextSplitter\n",
    "from langchain.document_loaders import  WebBaseLoader\n",
    "import tiktoken\n",
    "\n",
    "diseases = [\n",
    "    'Hypertension', 'Hyperlipidemia', 'Obesity', 'Diabetes', 'Cataract', \n",
    "    'Dementia', 'Rhinitis', 'Gastritis', 'Periodontal%20disease', 'Hemorrhoids',\n",
    "    'Alopecia'\n",
    "    ]\n",
    "\n",
    "headers = {\n",
    "    'User-Agent': 'Mozilla/5.0 (Windows NT 10.0; Win64; x64) AppleWebKit/537.36 (KHTML, like Gecko) Chrome/58.0.3029.110 Safari/537.3'\n",
    "}\n",
    "\n",
    "urls = []\n",
    "for disease in diseases:\n",
    "    for num in range(1,11):\n",
    "        parent_url=f'https://www.mayoclinic.org/search/search-results?q={disease}&page={num}'\n",
    "        res = requests.get(parent_url, headers=headers)\n",
    "        soup = BeautifulSoup(res.content, 'html.parser')\n",
    "        hrefs = [a['href'] for a in soup.find_all('a', class_='azsearchlink') if 'href' in a.attrs]\n",
    "        # print(disease, hrefs)\n",
    "        urls += hrefs\n",
    "# len(urls)\n",
    "\n",
    "tokenizer = tiktoken.get_encoding('cl100k_base')\n",
    "def token_length(text):\n",
    "    tokens = tokenizer.encode(text)\n",
    "    return len(tokens)\n",
    "\n",
    "text_splitter = RecursiveCharacterTextSplitter(\n",
    "    chunk_size=300,\n",
    "    chunk_overlap=30,\n",
    "    length_function = token_length\n",
    ")\n",
    "\n",
    "# text split\n",
    "all_articles = []\n",
    "for url in urls:\n",
    "    docs = WebBaseLoader(url).load_and_split(text_splitter)\n",
    "    all_articles+=docs\n",
    "all_articles[0]\n",
    "\n"
   ]
  },
  {
   "cell_type": "code",
   "execution_count": 18,
   "metadata": {},
   "outputs": [
    {
     "data": {
      "text/plain": [
       "110"
      ]
     },
     "execution_count": 18,
     "metadata": {},
     "output_type": "execute_result"
    }
   ],
   "source": [
    "len(urls)"
   ]
  },
  {
   "cell_type": "code",
   "execution_count": 21,
   "metadata": {},
   "outputs": [
    {
     "data": {
      "text/plain": [
       "{'source': 'https://www.mayoclinic.org/diseases-conditions/high-blood-pressure/symptoms-causes/syc-20373410',\n",
       " 'title': 'High blood pressure (hypertension) - Symptoms & causes - Mayo Clinic',\n",
       " 'language': 'en'}"
      ]
     },
     "execution_count": 21,
     "metadata": {},
     "output_type": "execute_result"
    }
   ],
   "source": [
    "all_articles[0].metadata"
   ]
  },
  {
   "cell_type": "code",
   "execution_count": 31,
   "metadata": {},
   "outputs": [
    {
     "data": {
      "text/plain": [
       "99"
      ]
     },
     "execution_count": 31,
     "metadata": {},
     "output_type": "execute_result"
    }
   ],
   "source": [
    "text=all_articles[3].page_content\n",
    "token_length(text)"
   ]
  },
  {
   "cell_type": "code",
   "execution_count": 32,
   "metadata": {},
   "outputs": [
    {
     "data": {
      "text/plain": [
       "11695"
      ]
     },
     "execution_count": 32,
     "metadata": {},
     "output_type": "execute_result"
    }
   ],
   "source": [
    "len(all_articles)"
   ]
  }
 ],
 "metadata": {
  "kernelspec": {
   "display_name": "base",
   "language": "python",
   "name": "python3"
  },
  "language_info": {
   "codemirror_mode": {
    "name": "ipython",
    "version": 3
   },
   "file_extension": ".py",
   "mimetype": "text/x-python",
   "name": "python",
   "nbconvert_exporter": "python",
   "pygments_lexer": "ipython3",
   "version": "3.11.7"
  }
 },
 "nbformat": 4,
 "nbformat_minor": 2
}
