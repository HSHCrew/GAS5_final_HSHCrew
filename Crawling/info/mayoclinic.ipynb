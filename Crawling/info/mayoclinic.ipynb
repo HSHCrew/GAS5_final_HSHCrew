{
 "cells": [
  {
   "cell_type": "code",
   "execution_count": 12,
   "metadata": {},
   "outputs": [
    {
     "name": "stderr",
     "output_type": "stream",
     "text": [
      "100%|██████████| 11/11 [01:09<00:00,  6.29s/it]\n",
      "100%|██████████| 1032/1032 [13:08<00:00,  1.31it/s]\n"
     ]
    },
    {
     "data": {
      "text/plain": [
       "Document(metadata={'source': 'https://www.mayoclinic.org/diseases-conditions/acne/doctors-departments/ddc-20368049', 'title': 'Acne - Doctors and departments - Mayo Clinic', 'language': 'en'}, page_content='Acne - Doctors and departments - Mayo Clinic\\n\\n\\n\\n\\n\\n\\n\\n\\n\\n\\n\\n\\n\\n\\n\\n\\n\\n\\n\\n\\n\\n\\n\\n\\n\\n\\n\\n\\n\\n\\n\\n\\n\\n\\n\\n\\n\\n\\n\\n\\n\\n\\n\\n\\n\\n\\n\\n\\n\\n\\nThis content does not have an English version.This content does not have an Arabic version.')"
      ]
     },
     "execution_count": 12,
     "metadata": {},
     "output_type": "execute_result"
    }
   ],
   "source": [
    "from bs4 import BeautifulSoup\n",
    "import requests\n",
    "from requests.adapters import HTTPAdapter\n",
    "# from requests.packages import urllib3\n",
    "\n",
    "from langchain_text_splitters import RecursiveCharacterTextSplitter\n",
    "from langchain.document_loaders import  WebBaseLoader\n",
    "import tiktoken\n",
    "from tqdm import tqdm\n",
    "\n",
    "diseases = [\n",
    "    'Hypertension', 'Hyperlipidemia', 'Obesity', 'Diabetes', 'Cataract', \n",
    "    'Dementia', 'Rhinitis', 'Gastritis', 'Periodontal%20disease', 'Hemorrhoids',\n",
    "    'Alopecia'\n",
    "    ]\n",
    "\n",
    "headers = {\n",
    "    'User-Agent': 'Mozilla/5.0 (Windows NT 10.0; Win64; x64) AppleWebKit/537.36 (KHTML, like Gecko) Chrome/58.0.3029.110 Safari/537.3'\n",
    "}\n",
    "\n",
    "urls = []\n",
    "for disease in tqdm(diseases):\n",
    "    for num in range(1,11):\n",
    "        parent_url=f'https://www.mayoclinic.org/search/search-results?q={disease}&page={num}'\n",
    "        res = requests.get(parent_url, headers=headers)\n",
    "        soup = BeautifulSoup(res.content, 'html.parser')\n",
    "        hrefs = [a['href'] for a in soup.find_all('a', class_='azsearchlink') if 'href' in a.attrs]\n",
    "        # print(disease, hrefs)\n",
    "        urls += hrefs\n",
    "# len(urls)\n",
    "\n",
    "tokenizer = tiktoken.get_encoding('cl100k_base')\n",
    "def token_length(text):\n",
    "    tokens = tokenizer.encode(text)\n",
    "    return len(tokens)\n",
    "\n",
    "# text split\n",
    "text_splitter = RecursiveCharacterTextSplitter(\n",
    "    chunk_size=300,\n",
    "    chunk_overlap=30,\n",
    "    length_function = token_length\n",
    ")\n",
    "urls = list(set(urls))\n",
    "\n",
    "# session = requests.Session()\n",
    "# retries = Retry(total=3, backoff_factor=1, status_forcelist=[])\n",
    "requests_kwargs = {\n",
    "    'timeout':10,\n",
    "    # 'sesstion':session\n",
    "}\n",
    "all_articles = []\n",
    "for url in tqdm(urls):\n",
    "    try:\n",
    "        docs = WebBaseLoader(url, requests_kwargs=requests_kwargs).load_and_split(text_splitter)\n",
    "        all_articles+=docs\n",
    "    except requests.exceptions.RequestException as e:\n",
    "        print(f'URL {url} 처리 중 오류 발생: {e}')\n",
    "        continue\n",
    "all_articles[0]\n",
    "\n"
   ]
  },
  {
   "cell_type": "code",
   "execution_count": 13,
   "metadata": {},
   "outputs": [
    {
     "data": {
      "text/plain": [
       "10654"
      ]
     },
     "execution_count": 13,
     "metadata": {},
     "output_type": "execute_result"
    }
   ],
   "source": [
    "len(all_articles)"
   ]
  },
  {
   "cell_type": "code",
   "execution_count": 14,
   "metadata": {},
   "outputs": [],
   "source": [
    "import json\n",
    "\n",
    "mayoclinic_diseases_info = []\n",
    "for info in all_articles:\n",
    "    mayoclinic_diseases_info.append(\n",
    "        {\n",
    "            'page_content':info.page_content,\n",
    "            'metadata':info.metadata\n",
    "         }\n",
    "    )\n",
    "\n",
    "with open('mayoclinic_diseases_info.json', 'w') as json_file:\n",
    "    json.dump(mayoclinic_diseases_info, json_file, indent=4)"
   ]
  }
 ],
 "metadata": {
  "kernelspec": {
   "display_name": "base",
   "language": "python",
   "name": "python3"
  },
  "language_info": {
   "codemirror_mode": {
    "name": "ipython",
    "version": 3
   },
   "file_extension": ".py",
   "mimetype": "text/x-python",
   "name": "python",
   "nbconvert_exporter": "python",
   "pygments_lexer": "ipython3",
   "version": "3.11.7"
  }
 },
 "nbformat": 4,
 "nbformat_minor": 2
}
