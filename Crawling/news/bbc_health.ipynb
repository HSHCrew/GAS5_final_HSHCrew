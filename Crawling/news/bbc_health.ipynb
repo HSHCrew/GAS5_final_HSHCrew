{
 "cells": [
  {
   "cell_type": "markdown",
   "metadata": {},
   "source": [
    "# BBC Health Crawler"
   ]
  },
  {
   "cell_type": "code",
   "execution_count": 1,
   "metadata": {},
   "outputs": [
    {
     "name": "stderr",
     "output_type": "stream",
     "text": [
      "USER_AGENT environment variable not set, consider setting it to identify your requests.\n",
      "100%|██████████| 10/10 [00:07<00:00,  1.29it/s]\n",
      "100%|██████████| 230/230 [05:04<00:00,  1.32s/it]\n"
     ]
    },
    {
     "data": {
      "text/plain": [
       "Document(metadata={'source': 'https://www.bbc.com/news/articles/c0kj1pmr7jdo', 'title': \"Covid-19 vaccine: Omagh man wants help after 'life ruined' by jab\", 'description': 'Larry Lowe used to have an active life but says everyday tasks are now beyond him.', 'language': 'en-GB'}, page_content=\"Covid-19 vaccine: Omagh man wants help after 'life ruined' by jabSkip to contentBritish Broadcasting CorporationHomeNewsUS ElectionSportBusinessInnovationCultureArtsTravelEarthVideoLiveHomeNewsIsrael-Gaza WarWar in UkraineUS & CanadaUKUK PoliticsEnglandN. IrelandN. Ireland PoliticsScotlandScotland PoliticsWalesWales PoliticsAfricaAsiaChinaIndiaAustraliaEuropeLatin AmericaMiddle EastIn PicturesBBC InDepthBBC VerifyUS ElectionElection pollsKamala HarrisDonald TrumpJD VanceTim WalzSportBusinessExecutive LoungeTechnology of BusinessWomen at the HelmFuture of BusinessInnovationTechnologyScience & HealthArtificial IntelligenceAI v the MindCultureFilm & TVMusicArt & DesignStyleBooksEntertainment NewsArtsArts in MotionTravelDestinationsAfricaAntarcticaAsiaAustralia and PacificCaribbean & BermudaCentral AmericaEuropeMiddle EastNorth AmericaSouth AmericaWorld’s TableCulture & ExperiencesAdventuresThe SpeciaListEarthNatural WondersWeather & ScienceClimate SolutionsSustainable BusinessGreen LivingVideoLiveLive NewsLive SportHomeNewsUS ElectionSportBusinessInnovationCultureArtsTravelEarthVideoLiveAudioWeatherNewslettersMan says he has been 'left to rot' after Covid vaccineLarry LoweLarry Lowe struggles with everyday tasks such as walkingOn 15 December 2021 Larry Lowe’s life changed.He was 54, rarely ill, fit, healthy and running 10km most days – until he got the Pfizer Covid booster.Within days he developed numbness in the right side of\")"
      ]
     },
     "execution_count": 1,
     "metadata": {},
     "output_type": "execute_result"
    }
   ],
   "source": [
    "from bs4 import BeautifulSoup\n",
    "import requests\n",
    "from langchain_text_splitters import CharacterTextSplitter, RecursiveCharacterTextSplitter\n",
    "from langchain.document_loaders import WebBaseLoader\n",
    "import tiktoken\n",
    "from tqdm import tqdm\n",
    "\n",
    "parent_url = 'https://www.bbc.com/news/health'\n",
    "urls = []\n",
    "# 1~10페이지의 url추출\n",
    "for num in tqdm(range(1, 11)):\n",
    "    res = requests.get(parent_url+f'?page={num}')\n",
    "    soup = BeautifulSoup(res.content, 'html.parser')\n",
    "\n",
    "    hrefs = ['https://www.bbc.com'+a['href'] for li in soup.find_all('li', class_='ssrcss-qtbdxl-StyledListItem e1d6xluq3') if (a := li.find('a')) and 'href' in a.attrs]\n",
    "    urls += hrefs\n",
    "\n",
    "# text_splitter = CharacterTextSplitter(\n",
    "#     separator='\\n\\n',\n",
    "#     chunk_size = 3000,\n",
    "#     chunk_overlap = 300,\n",
    "#     length_function = len,\n",
    "#     is_separator_regex=False\n",
    "# )\n",
    "\n",
    "urls = list(set(urls))\n",
    "\n",
    "# 토큰 단위로 청킹\n",
    "tokenizer = tiktoken.get_encoding('cl100k_base')\n",
    "def token_length(text):\n",
    "    tokens = tokenizer.encode(text)\n",
    "    return len(tokens)\n",
    "\n",
    "text_splitter = RecursiveCharacterTextSplitter(\n",
    "    chunk_size=300,\n",
    "    chunk_overlap=30,\n",
    "    length_function = token_length\n",
    ")\n",
    "\n",
    "# text split\n",
    "all_articles = []\n",
    "for url in tqdm(urls):\n",
    "    docs = WebBaseLoader(url).load_and_split(text_splitter)\n",
    "    all_articles+=docs\n",
    "all_articles[0]\n"
   ]
  },
  {
   "cell_type": "code",
   "execution_count": 2,
   "metadata": {},
   "outputs": [],
   "source": [
    "import json\n",
    "\n",
    "bbc_health_news = []\n",
    "for info in all_articles:\n",
    "    bbc_health_news.append(\n",
    "        {\n",
    "            'page_content':info.page_content,\n",
    "            'metadata':info.metadata\n",
    "         }\n",
    "    )\n",
    "\n",
    "with open('bbc_health_news.json', 'w') as json_file:\n",
    "    json.dump(bbc_health_news, json_file, indent=4)"
   ]
  },
  {
   "cell_type": "code",
   "execution_count": 5,
   "metadata": {},
   "outputs": [],
   "source": [
    "with open('bbc_health_news.json', 'r') as f:\n",
    "    data = json.load(f)"
   ]
  },
  {
   "cell_type": "code",
   "execution_count": 7,
   "metadata": {},
   "outputs": [
    {
     "data": {
      "text/plain": [
       "1182"
      ]
     },
     "execution_count": 7,
     "metadata": {},
     "output_type": "execute_result"
    }
   ],
   "source": [
    "len(data)"
   ]
  },
  {
   "cell_type": "code",
   "execution_count": 8,
   "metadata": {},
   "outputs": [
    {
     "data": {
      "text/plain": [
       "{'page_content': \"Covid-19 vaccine: Omagh man wants help after 'life ruined' by jabSkip to contentBritish Broadcasting CorporationHomeNewsUS ElectionSportBusinessInnovationCultureArtsTravelEarthVideoLiveHomeNewsIsrael-Gaza WarWar in UkraineUS & CanadaUKUK PoliticsEnglandN. IrelandN. Ireland PoliticsScotlandScotland PoliticsWalesWales PoliticsAfricaAsiaChinaIndiaAustraliaEuropeLatin AmericaMiddle EastIn PicturesBBC InDepthBBC VerifyUS ElectionElection pollsKamala HarrisDonald TrumpJD VanceTim WalzSportBusinessExecutive LoungeTechnology of BusinessWomen at the HelmFuture of BusinessInnovationTechnologyScience & HealthArtificial IntelligenceAI v the MindCultureFilm & TVMusicArt & DesignStyleBooksEntertainment NewsArtsArts in MotionTravelDestinationsAfricaAntarcticaAsiaAustralia and PacificCaribbean & BermudaCentral AmericaEuropeMiddle EastNorth AmericaSouth AmericaWorld’s TableCulture & ExperiencesAdventuresThe SpeciaListEarthNatural WondersWeather & ScienceClimate SolutionsSustainable BusinessGreen LivingVideoLiveLive NewsLive SportHomeNewsUS ElectionSportBusinessInnovationCultureArtsTravelEarthVideoLiveAudioWeatherNewslettersMan says he has been 'left to rot' after Covid vaccineLarry LoweLarry Lowe struggles with everyday tasks such as walkingOn 15 December 2021 Larry Lowe’s life changed.He was 54, rarely ill, fit, healthy and running 10km most days – until he got the Pfizer Covid booster.Within days he developed numbness in the right side of\",\n",
       " 'metadata': {'source': 'https://www.bbc.com/news/articles/c0kj1pmr7jdo',\n",
       "  'title': \"Covid-19 vaccine: Omagh man wants help after 'life ruined' by jab\",\n",
       "  'description': 'Larry Lowe used to have an active life but says everyday tasks are now beyond him.',\n",
       "  'language': 'en-GB'}}"
      ]
     },
     "execution_count": 8,
     "metadata": {},
     "output_type": "execute_result"
    }
   ],
   "source": [
    "data[0]"
   ]
  }
 ],
 "metadata": {
  "kernelspec": {
   "display_name": "base",
   "language": "python",
   "name": "python3"
  },
  "language_info": {
   "codemirror_mode": {
    "name": "ipython",
    "version": 3
   },
   "file_extension": ".py",
   "mimetype": "text/x-python",
   "name": "python",
   "nbconvert_exporter": "python",
   "pygments_lexer": "ipython3",
   "version": "3.11.7"
  }
 },
 "nbformat": 4,
 "nbformat_minor": 2
}
