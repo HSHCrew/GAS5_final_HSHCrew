{
 "cells": [
  {
   "cell_type": "code",
   "execution_count": 33,
   "metadata": {},
   "outputs": [
    {
     "name": "stderr",
     "output_type": "stream",
     "text": [
      "  0%|          | 0/11 [00:00<?, ?it/s]"
     ]
    },
    {
     "name": "stderr",
     "output_type": "stream",
     "text": [
      "100%|██████████| 11/11 [00:40<00:00,  3.70s/it]\n",
      "100%|██████████| 944/944 [44:40<00:00,  2.84s/it]  "
     ]
    },
    {
     "name": "stdout",
     "output_type": "stream",
     "text": [
      "62612\n"
     ]
    },
    {
     "name": "stderr",
     "output_type": "stream",
     "text": [
      "\n"
     ]
    },
    {
     "data": {
      "text/plain": [
       "Document(metadata={'source': 'https://www.nature.com/articles/s41598-024-69964-6', 'title': 'miR-27a-3p promotes inflammatory response in infectious endophthalmitis via targeting TSC1 | Scientific Reports', 'description': 'Infectious endophthalmitis (IE) poses a significant threat to vision. This study aimed to explore the impact of microRNA (miR)-27a-3p on inflammation in IE. A rat model was developed through intravitreal injection of lipopolysaccharide. Clinical and demographic data were collected for 54 participants: 31 diagnosed with IE and 23 non-infectious patients with idiopathic macular holes. Expression levels of miR-27a-3p and inflammatory genes were quantified via reverse transcription quantitative polymerase chain reaction. Concentrations of inflammatory cytokines in human vitreous samples were measured using enzyme-linked immunosorbent assay. In vitro studies were conducted to explore the target gene of miR-27a-3p. The final animal experiments further verified the role of miR-27a-3p and tuberous sclerosis complex (TSC)1 in inflammatory responses. Results showed that miR-27a-3p was elevated in LPS-treated rats and IE patients. Thirty-one IE patients were divided into the High (n\\u2009=\\u200915) and Low (n\\u2009=\\u200916) groups according to the expression of miR-27a-3p. No significant differences were observed in baseline clinical and demographic characteristics between the control and IE patient groups. Pro-inflammatory cytokine mRNA levels and concentrations were notably increased in both LPS-treated rats and the High group of patients. Besides, results showed that TSC1 is a target gene of miR-27a-3p. Moreover, TSC1 inhibition promoted inflammation in rat vitreous samples. In summary, our findings suggested that miR-27a-3p exacerbated inflammatory responses in IE though targeting TSC1, offering novel insights for potential therapeutic strategies targeting miR-27a-3p in the clinical management of IE.', 'language': 'en'}, page_content='miR-27a-3p promotes inflammatory response in infectious endophthalmitis via targeting TSC1 | Scientific Reports\\n\\n\\n\\n\\n\\n\\n\\n\\n\\n\\n\\n\\n\\n\\n\\n\\n\\n\\n\\n\\n\\n\\n\\n\\n\\n\\n\\n\\n\\n\\n\\n\\n\\n\\n\\n\\n\\n\\n\\n\\n\\n\\n\\n\\n\\n\\n\\n\\n\\n\\n\\n\\n\\n\\n\\n\\n\\n\\n\\n\\n\\n\\n\\n\\n\\n\\n\\n\\n\\n\\n\\n\\n\\n\\n\\n\\n\\n\\n\\n\\n\\n\\n\\n\\n\\n\\n\\n\\n\\n\\n\\n\\n\\n\\n\\n\\n\\n\\n\\n\\n\\n\\n\\n\\n\\n\\n\\n\\n\\n\\n\\n\\n\\n\\n\\n\\n\\n\\n\\n\\n\\n\\n\\n\\n\\n\\n\\n\\n\\n\\n\\n\\n\\n\\n\\n\\n\\n\\n\\n\\n\\n\\n\\n\\n\\n\\n\\n\\n\\nSkip to main content\\n\\n\\nThank you for visiting nature.com. You are using a browser version with limited support for CSS. To obtain\\n            the best experience, we recommend you use a more up to date browser (or turn off compatibility mode in\\n            Internet Explorer). In the meantime, to ensure continued support, we are displaying the site without styles\\n            and JavaScript.\\n\\n\\n\\n\\n\\nAdvertisement\\n\\n\\n\\n\\n\\n\\n\\n\\n\\n\\n\\n\\n\\n\\n\\n\\n\\n\\n\\n\\n\\n\\n\\nView all journals\\n\\n\\n\\n\\nSearch\\n\\n\\n\\nLog in\\n\\n\\n\\n\\n\\n\\n\\n\\n\\n\\n\\nExplore content\\n\\n\\n\\n\\nAbout the journal\\n\\n\\n\\n\\nPublish with us\\n\\n\\n\\n\\n\\n\\nSign up for alerts\\n\\n\\n\\n\\nRSS feed\\n\\n\\n\\n\\n\\n\\n\\n\\n\\n\\nnature\\n\\n\\n\\nscientific reports\\n\\n\\n\\narticles\\n\\n\\n\\n\\narticle\\n\\n\\n\\n\\n\\n\\n\\n\\n\\n                        miR-27a-3p promotes inflammatory response in infectious endophthalmitis via targeting TSC1\\n                    \\n\\n\\nDownload PDF\\n\\n\\n\\n\\n\\n\\n\\n\\n\\n\\nDownload PDF\\n\\n\\n\\n\\n\\n\\n\\n\\nArticle\\n\\nOpen access')"
      ]
     },
     "execution_count": 33,
     "metadata": {},
     "output_type": "execute_result"
    }
   ],
   "source": [
    "from bs4 import BeautifulSoup\n",
    "import requests\n",
    "\n",
    "from langchain_text_splitters import RecursiveCharacterTextSplitter\n",
    "from langchain.document_loaders import  WebBaseLoader\n",
    "import tiktoken\n",
    "\n",
    "from tqdm import tqdm\n",
    "\n",
    "diseases = [\n",
    "    'Hypertension', 'Hyperlipidemia', 'Obesity', 'Diabetes', 'Cataract', \n",
    "    'Dementia', 'Rhinitis', 'Gastritis', 'Periodontal+disease', 'Hemorrhoids',\n",
    "    'Alopecia'\n",
    "    ]\n",
    "\n",
    "headers = {\n",
    "    'User-Agent': 'Mozilla/5.0 (Windows NT 10.0; Win64; x64) AppleWebKit/537.36 (KHTML, like Gecko) Chrome/58.0.3029.110 Safari/537.3'\n",
    "}\n",
    "\n",
    "urls = []\n",
    "for disease in tqdm(diseases):\n",
    "    for num in range(1,3):\n",
    "        parent_url=f'https://www.nature.com/search?q={disease}&order=date_desc&page={num}'\n",
    "        res = requests.get(parent_url, headers=headers)\n",
    "        soup = BeautifulSoup(res.content, 'html.parser')\n",
    "        hrefs = ['https://www.nature.com'+a_tag['href'] for a in soup.find_all('h3', class_='c-card__title') if ((a_tag:=a.find('a')) and'href' in a_tag.attrs)]\n",
    "        # print(disease, hrefs)\n",
    "        urls += hrefs\n",
    "# len(urls)\n",
    "# 중복제거\n",
    "urls = list(set(urls))\n",
    "# print('url 모집 완료')\n",
    "tokenizer = tiktoken.get_encoding('cl100k_base')\n",
    "def token_length(text):\n",
    "    tokens = tokenizer.encode(text)\n",
    "    return len(tokens)\n",
    "\n",
    "text_splitter = RecursiveCharacterTextSplitter(\n",
    "    chunk_size=300,\n",
    "    chunk_overlap=30,\n",
    "    length_function = token_length\n",
    ")\n",
    "\n",
    "# text split\n",
    "all_articles = []\n",
    "for url in tqdm(urls):\n",
    "    docs = WebBaseLoader(url).load_and_split(text_splitter)\n",
    "    all_articles+=docs\n",
    "\n",
    "print(len(all_articles))\n",
    "all_articles[0]\n",
    "\n"
   ]
  },
  {
   "cell_type": "code",
   "execution_count": 35,
   "metadata": {},
   "outputs": [
    {
     "data": {
      "text/plain": [
       "{'source': 'https://www.nature.com/articles/s41746-022-00558-0',\n",
       " 'title': 'Predictive structured–unstructured interactions in EHR models: A case study of suicide prediction | npj Digital Medicine',\n",
       " 'description': 'Clinical risk prediction models powered by electronic health records (EHRs) are becoming increasingly widespread in clinical practice. With suicide-related mortality rates rising in recent years, it is becoming increasingly urgent to understand, predict, and prevent suicidal behavior. Here, we compare the predictive value of structured and unstructured EHR data for predicting suicide risk. We find that Naive Bayes Classifier (NBC) and Random Forest (RF) models trained on structured EHR data perform better than those based on unstructured EHR data. An NBC model trained on both structured and unstructured data yields similar performance (AUC\\u2009=\\u20090.743) to an NBC model trained on structured data alone (0.742, p\\u2009=\\u20090.668), while an RF model trained on both data types yields significantly better results (AUC\\u2009=\\u20090.903) than an RF model trained on structured data alone (0.887, p\\u2009&lt;\\u20090.001), likely due to the RF model’s ability to capture interactions between the two data types. To investigate these interactions, we propose and implement a general framework for identifying specific structured-unstructured feature pairs whose interactions differ between case and non-case cohorts, and thus have the potential to improve predictive performance and increase understanding of clinical risk. We find that such feature pairs tend to capture heterogeneous pairs of general concepts, rather than homogeneous pairs of specific concepts. These findings and this framework can be used to improve current and future EHR-based clinical modeling efforts.',\n",
       " 'language': 'en'}"
      ]
     },
     "execution_count": 35,
     "metadata": {},
     "output_type": "execute_result"
    }
   ],
   "source": [
    "all_articles[60000].metadata"
   ]
  },
  {
   "cell_type": "code",
   "execution_count": 38,
   "metadata": {},
   "outputs": [
    {
     "name": "stdout",
     "output_type": "stream",
     "text": [
      "Google Scholar \n",
      "                Bayramli, I., Castro, V., Barak-Corren, Y., Madsen, E. M., Nock, M. K., Smoller, J. W. & Reis, B. Y. Temporally informed random forests for suicide risk prediction. J. Am. Med. Inform. Assoc. 29, 62–71 (2021).Article \n",
      "    \n",
      "                    Google Scholar \n",
      "                Xu, Z. et al. Identifying sub-phenotypes of acute kidney injury using structured and unstructured electronic health record data with memory networks. J. Biomed. Inform. 102, 103361 (2020).Article \n",
      "    \n",
      "                    Google Scholar \n",
      "                Su, C., Xu, Z., Pathak, J. & Wang, F. Deep learning in mental health outcome research: a scoping review. Transl. Psychiatry 10, 116 (2020).Article \n",
      "    \n",
      "                    Google Scholar \n",
      "                Sheikhalishahi, S. et al. Natural language processing of clinical notes on chronic diseases: Systematic review. JMIR Med Inf. 7, e12239 (2019).Article \n",
      "    \n",
      "                    Google Scholar\n"
     ]
    }
   ],
   "source": [
    "print(all_articles[60000].page_content)"
   ]
  },
  {
   "cell_type": "code",
   "execution_count": 39,
   "metadata": {},
   "outputs": [],
   "source": [
    "import json\n",
    "\n",
    "nature_diseases_articles = []\n",
    "for article in all_articles:\n",
    "    document = {\n",
    "        'page_content':article.page_content,\n",
    "        'metadata':article.metadata\n",
    "    }\n",
    "    nature_diseases_articles.append(document)\n",
    "\n",
    "with open('nature_diseases_articles.json', 'w') as json_file:\n",
    "    json.dump(nature_diseases_articles, json_file, indent=4)"
   ]
  },
  {
   "cell_type": "markdown",
   "metadata": {},
   "source": [
    "lancet \n",
    "https://www.thelancet.com/action/doSearch?type=quicksearch&text1={Diabetes}&field1=AllField&sortBy=Earliest&startPage=&ContentItemType=fla\n",
    "\n",
    "h2 class_='meta__title'"
   ]
  },
  {
   "cell_type": "markdown",
   "metadata": {},
   "source": [
    "# Lancet"
   ]
  },
  {
   "cell_type": "code",
   "execution_count": null,
   "metadata": {},
   "outputs": [],
   "source": [
    "from bs4 import BeautifulSoup\n",
    "import requests\n",
    "\n",
    "from langchain_text_splitters import RecursiveCharacterTextSplitter\n",
    "from langchain.document_loaders import  WebBaseLoader\n",
    "import tiktoken\n",
    "\n",
    "diseases = [\n",
    "    'Hypertension', 'Hyperlipidemia', 'Obesity', 'Diabetes', 'Cataract', \n",
    "    'Dementia', 'Rhinitis', 'Gastritis', 'Periodontal+disease', 'Hemorrhoids',\n",
    "    'Alopecia'\n",
    "    ]\n",
    "\n",
    "headers = {\n",
    "    'User-Agent': 'Mozilla/5.0 (Windows NT 10.0; Win64; x64) AppleWebKit/537.36 (KHTML, like Gecko) Chrome/58.0.3029.110 Safari/537.3'\n",
    "}\n",
    "\n",
    "urls = []\n",
    "for disease in diseases:\n",
    "    \n",
    "    parent_url=f'https://www.thelancet.com/action/doSearch?type=quicksearch&text1={disease}&field1=AllField&sortBy=Earliest&startPage=&ContentItemType=fla'\n",
    "    res = requests.get(parent_url, headers=headers)\n",
    "    soup = BeautifulSoup(res.content, 'html.parser')\n",
    "    hrefs = ['https://www.thelancet.com'+a_tag['href'] for a in soup.find_all('h2', class_='meta_title') if ((a_tag:=a.find('a')) and'href' in a_tag.attrs)]\n",
    "    # print(disease, hrefs)\n",
    "    urls += hrefs\n",
    "# len(urls)\n",
    "\n",
    "tokenizer = tiktoken.get_encoding('cl100k_base')\n",
    "def token_length(text):\n",
    "    tokens = tokenizer.encode(text)\n",
    "    return len(tokens)\n",
    "\n",
    "text_splitter = RecursiveCharacterTextSplitter(\n",
    "    chunk_size=300,\n",
    "    chunk_overlap=30,\n",
    "    length_function = token_length\n",
    ")\n",
    "\n",
    "# text split\n",
    "all_articles = []\n",
    "for url in urls:\n",
    "    docs = WebBaseLoader(url).load_and_split(text_splitter)\n",
    "    all_articles+=docs\n",
    "all_articles[0]\n",
    "\n"
   ]
  }
 ],
 "metadata": {
  "kernelspec": {
   "display_name": "base",
   "language": "python",
   "name": "python3"
  },
  "language_info": {
   "codemirror_mode": {
    "name": "ipython",
    "version": 3
   },
   "file_extension": ".py",
   "mimetype": "text/x-python",
   "name": "python",
   "nbconvert_exporter": "python",
   "pygments_lexer": "ipython3",
   "version": "3.11.7"
  }
 },
 "nbformat": 4,
 "nbformat_minor": 2
}
