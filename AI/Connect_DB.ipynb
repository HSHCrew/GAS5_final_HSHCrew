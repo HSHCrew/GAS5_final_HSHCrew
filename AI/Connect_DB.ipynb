{
 "cells": [
  {
   "cell_type": "markdown",
   "metadata": {},
   "source": [
    "PyMySQL == 1.1.1"
   ]
  },
  {
   "cell_type": "markdown",
   "metadata": {},
   "source": [
    "# MariaDB에 연결"
   ]
  },
  {
   "cell_type": "code",
   "execution_count": 2,
   "metadata": {},
   "outputs": [],
   "source": [
    "import mysql.connector\n",
    "import pandas\n",
    "\n",
    "conn = mysql.connector.connect(\n",
    "    # 정해지면 작성해야 하는 부분\n",
    "    host = 'localhost', \n",
    "    user='root'\n",
    "    password='*******'\n",
    "    database='??????'\n",
    ")\n",
    "\n",
    "# 커서 생성\n",
    "# 커서란 : 데이터베이스에서 SQL쿼리를 실행하고 그 결과에 접근할 수 있는 객체\n",
    "# cursor.execute()를 사용해 데이터베이스에 쿼리 전달 및 처리\n",
    "# 전달 예시) cursor.execute('SELECT * FROM persons')\n",
    "# 처리 예시) cursor.feltchall() / cursor.feltchone()\n",
    "# 커서를 통해서 실행된 쿼리는 트랜잭션으로 관리 -> 여러 개의 쿼리를 실행한 후 conn.commit으로 데이터베이스에 최종 반영\n",
    "# 예시) conn.commit()\n",
    "cursor = conn.cursor()"
   ]
  },
  {
   "cell_type": "markdown",
   "metadata": {},
   "source": [
    "# 데이터프레임"
   ]
  },
  {
   "cell_type": "code",
   "execution_count": null,
   "metadata": {},
   "outputs": [],
   "source": [
    "import pandas as pd\n",
    "\n",
    "df = pd.read_json('c:/Users/USER/Downloads/e약은요_약성포함.json')"
   ]
  },
  {
   "cell_type": "markdown",
   "metadata": {},
   "source": [
    "테이블이 MariaDB에 존재해야 함. 없다면 sql에서 생성\n",
    "\n",
    "> CREATE TABLE table_name (\n",
    "    column_name datatype,\n",
    "    column_name datatype,\n",
    ");\n"
   ]
  },
  {
   "cell_type": "markdown",
   "metadata": {},
   "source": [
    "### MariaDB 테이블에 데이터프레임의 데이터 삽입"
   ]
  },
  {
   "cell_type": "code",
   "execution_count": null,
   "metadata": {},
   "outputs": [],
   "source": [
    "# DB에서 table명 한->영 작업중 10.18 10:15\n",
    "table_name_df = df[df['col1', 'col2']]\n",
    "\n",
    "for i, row in table_name_df.iterrows():\n",
    "    sql = 'INSERT INTO table_name (col, col) VALUES (%s, %s)'\n",
    "    cursor.execute(sql, tuple(row))\n",
    "\n",
    "conn.commit()\n",
    "cursor.close()\n",
    "conn.close()"
   ]
  }
 ],
 "metadata": {
  "kernelspec": {
   "display_name": "base",
   "language": "python",
   "name": "python3"
  },
  "language_info": {
   "codemirror_mode": {
    "name": "ipython",
    "version": 3
   },
   "file_extension": ".py",
   "mimetype": "text/x-python",
   "name": "python",
   "nbconvert_exporter": "python",
   "pygments_lexer": "ipython3",
   "version": "3.11.7"
  }
 },
 "nbformat": 4,
 "nbformat_minor": 2
}
